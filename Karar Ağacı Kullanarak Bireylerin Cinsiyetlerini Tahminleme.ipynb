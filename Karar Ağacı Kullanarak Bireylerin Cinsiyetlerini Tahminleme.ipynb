{
 "cells": [
  {
   "cell_type": "markdown",
   "id": "bf4b6195",
   "metadata": {},
   "source": [
    "## Karar Ağacı Kullanarak Bireylerin Cinsiyetlerini Tahminleyen Program \n"
   ]
  },
  {
   "cell_type": "code",
   "execution_count": 32,
   "id": "3039f65e",
   "metadata": {},
   "outputs": [],
   "source": [
    "#Kullanacağımız kütüphanelerimizi yüklüyoruz\n",
    "from sklearn import tree\n",
    "import pandas as pd\n",
    "import matplotlib.pyplot as plt"
   ]
  },
  {
   "cell_type": "markdown",
   "id": "8dceee89",
   "metadata": {},
   "source": [
    "## 1.Veri Toplama"
   ]
  },
  {
   "cell_type": "code",
   "execution_count": 33,
   "id": "5fe71c95",
   "metadata": {},
   "outputs": [],
   "source": [
    "#Excel Üzerindeki Veri Setimizi Çalışma Sayfamıza Aktarıyoruz\n",
    "df=pd.read_csv(\"Bar-Genders.csv\",delimiter=\";\")"
   ]
  },
  {
   "cell_type": "markdown",
   "id": "048771eb",
   "metadata": {},
   "source": [
    "## 2.Veri Analizi"
   ]
  },
  {
   "cell_type": "code",
   "execution_count": 34,
   "id": "a7248875",
   "metadata": {
    "scrolled": true
   },
   "outputs": [
    {
     "data": {
      "text/html": [
       "<div>\n",
       "<style scoped>\n",
       "    .dataframe tbody tr th:only-of-type {\n",
       "        vertical-align: middle;\n",
       "    }\n",
       "\n",
       "    .dataframe tbody tr th {\n",
       "        vertical-align: top;\n",
       "    }\n",
       "\n",
       "    .dataframe thead th {\n",
       "        text-align: right;\n",
       "    }\n",
       "</style>\n",
       "<table border=\"1\" class=\"dataframe\">\n",
       "  <thead>\n",
       "    <tr style=\"text-align: right;\">\n",
       "      <th></th>\n",
       "      <th>FavoriteColor</th>\n",
       "      <th>FavoriteMusicGenre</th>\n",
       "      <th>FavoriteBeverage</th>\n",
       "      <th>FavoriteSoftDrink</th>\n",
       "      <th>Gender</th>\n",
       "      <th>Predicted_Gender</th>\n",
       "    </tr>\n",
       "  </thead>\n",
       "  <tbody>\n",
       "    <tr>\n",
       "      <th>0</th>\n",
       "      <td>Cool</td>\n",
       "      <td>Rock</td>\n",
       "      <td>Vodka</td>\n",
       "      <td>7UP/Sprite</td>\n",
       "      <td>F</td>\n",
       "      <td>F</td>\n",
       "    </tr>\n",
       "    <tr>\n",
       "      <th>1</th>\n",
       "      <td>Neutral</td>\n",
       "      <td>Hip hop</td>\n",
       "      <td>Vodka</td>\n",
       "      <td>Coca Cola/Pepsi</td>\n",
       "      <td>F</td>\n",
       "      <td>F</td>\n",
       "    </tr>\n",
       "    <tr>\n",
       "      <th>2</th>\n",
       "      <td>Warm</td>\n",
       "      <td>Rock</td>\n",
       "      <td>Wine</td>\n",
       "      <td>Coca Cola/Pepsi</td>\n",
       "      <td>F</td>\n",
       "      <td>F</td>\n",
       "    </tr>\n",
       "    <tr>\n",
       "      <th>3</th>\n",
       "      <td>Warm</td>\n",
       "      <td>Folk/Traditional</td>\n",
       "      <td>Whiskey</td>\n",
       "      <td>Fanta</td>\n",
       "      <td>F</td>\n",
       "      <td>F</td>\n",
       "    </tr>\n",
       "    <tr>\n",
       "      <th>4</th>\n",
       "      <td>Cool</td>\n",
       "      <td>Rock</td>\n",
       "      <td>Vodka</td>\n",
       "      <td>Coca Cola/Pepsi</td>\n",
       "      <td>F</td>\n",
       "      <td>F</td>\n",
       "    </tr>\n",
       "    <tr>\n",
       "      <th>...</th>\n",
       "      <td>...</td>\n",
       "      <td>...</td>\n",
       "      <td>...</td>\n",
       "      <td>...</td>\n",
       "      <td>...</td>\n",
       "      <td>...</td>\n",
       "    </tr>\n",
       "    <tr>\n",
       "      <th>61</th>\n",
       "      <td>Cool</td>\n",
       "      <td>Rock</td>\n",
       "      <td>Vodka</td>\n",
       "      <td>Coca Cola/Pepsi</td>\n",
       "      <td>M</td>\n",
       "      <td>F</td>\n",
       "    </tr>\n",
       "    <tr>\n",
       "      <th>62</th>\n",
       "      <td>Cool</td>\n",
       "      <td>Hip hop</td>\n",
       "      <td>Beer</td>\n",
       "      <td>Coca Cola/Pepsi</td>\n",
       "      <td>M</td>\n",
       "      <td>F</td>\n",
       "    </tr>\n",
       "    <tr>\n",
       "      <th>63</th>\n",
       "      <td>Neutral</td>\n",
       "      <td>Hip hop</td>\n",
       "      <td>Doesn't drink</td>\n",
       "      <td>Fanta</td>\n",
       "      <td>M</td>\n",
       "      <td>F</td>\n",
       "    </tr>\n",
       "    <tr>\n",
       "      <th>64</th>\n",
       "      <td>Cool</td>\n",
       "      <td>Rock</td>\n",
       "      <td>Wine</td>\n",
       "      <td>Coca Cola/Pepsi</td>\n",
       "      <td>M</td>\n",
       "      <td>F</td>\n",
       "    </tr>\n",
       "    <tr>\n",
       "      <th>65</th>\n",
       "      <td>Cool</td>\n",
       "      <td>Electronic</td>\n",
       "      <td>Beer</td>\n",
       "      <td>Coca Cola/Pepsi</td>\n",
       "      <td>M</td>\n",
       "      <td>F</td>\n",
       "    </tr>\n",
       "  </tbody>\n",
       "</table>\n",
       "<p>66 rows × 6 columns</p>\n",
       "</div>"
      ],
      "text/plain": [
       "   FavoriteColor FavoriteMusicGenre FavoriteBeverage FavoriteSoftDrink Gender  \\\n",
       "0           Cool               Rock            Vodka        7UP/Sprite      F   \n",
       "1        Neutral            Hip hop            Vodka   Coca Cola/Pepsi      F   \n",
       "2           Warm               Rock             Wine   Coca Cola/Pepsi      F   \n",
       "3           Warm   Folk/Traditional          Whiskey             Fanta      F   \n",
       "4           Cool               Rock            Vodka   Coca Cola/Pepsi      F   \n",
       "..           ...                ...              ...               ...    ...   \n",
       "61          Cool               Rock            Vodka   Coca Cola/Pepsi      M   \n",
       "62          Cool            Hip hop             Beer   Coca Cola/Pepsi      M   \n",
       "63       Neutral            Hip hop    Doesn't drink             Fanta      M   \n",
       "64          Cool               Rock             Wine   Coca Cola/Pepsi      M   \n",
       "65          Cool         Electronic             Beer   Coca Cola/Pepsi      M   \n",
       "\n",
       "   Predicted_Gender  \n",
       "0                 F  \n",
       "1                 F  \n",
       "2                 F  \n",
       "3                 F  \n",
       "4                 F  \n",
       "..              ...  \n",
       "61                F  \n",
       "62                F  \n",
       "63                F  \n",
       "64                F  \n",
       "65                F  \n",
       "\n",
       "[66 rows x 6 columns]"
      ]
     },
     "execution_count": 34,
     "metadata": {},
     "output_type": "execute_result"
    }
   ],
   "source": [
    "df"
   ]
  },
  {
   "cell_type": "code",
   "execution_count": 35,
   "id": "2613be87",
   "metadata": {},
   "outputs": [
    {
     "name": "stdout",
     "output_type": "stream",
     "text": [
      "<class 'pandas.core.frame.DataFrame'>\n",
      "RangeIndex: 66 entries, 0 to 65\n",
      "Data columns (total 6 columns):\n",
      " #   Column              Non-Null Count  Dtype \n",
      "---  ------              --------------  ----- \n",
      " 0   FavoriteColor       66 non-null     object\n",
      " 1   FavoriteMusicGenre  66 non-null     object\n",
      " 2   FavoriteBeverage    66 non-null     object\n",
      " 3   FavoriteSoftDrink   66 non-null     object\n",
      " 4   Gender              66 non-null     object\n",
      " 5   Predicted_Gender    66 non-null     object\n",
      "dtypes: object(6)\n",
      "memory usage: 3.2+ KB\n"
     ]
    }
   ],
   "source": [
    "df.info()"
   ]
  },
  {
   "cell_type": "markdown",
   "id": "fbce1deb",
   "metadata": {},
   "source": [
    "## 3.Sonuçların Görselleştirilmesi"
   ]
  },
  {
   "cell_type": "code",
   "execution_count": 36,
   "id": "2bc77451",
   "metadata": {},
   "outputs": [],
   "source": [
    "from sklearn.model_selection import KFold\n",
    "from sklearn.metrics import accuracy_score\n",
    "kfold=KFold(10,shuffle=True,random_state=True)"
   ]
  },
  {
   "cell_type": "code",
   "execution_count": 37,
   "id": "91a0c6eb",
   "metadata": {},
   "outputs": [],
   "source": [
    "#kategorik verileri (metin etiketleri) sayısal temsillere dönüştürme\n",
    "from sklearn.preprocessing import LabelEncoder\n",
    "\n",
    "le = LabelEncoder()\n",
    "for col in df.columns:\n",
    "    if df[col].dtype == 'object':\n",
    "        df[col] = le.fit_transform(df[col])\n",
    "        \n",
    "X = df.drop(\"Gender\", axis=1)\n",
    "y = df.Gender"
   ]
  },
  {
   "cell_type": "code",
   "execution_count": 38,
   "id": "794861fa",
   "metadata": {},
   "outputs": [
    {
     "name": "stdout",
     "output_type": "stream",
     "text": [
      "0 59 7\n",
      "Accuracy:0.2857142857142857\n",
      "1 59 7\n",
      "Accuracy:0.2857142857142857\n",
      "2 59 7\n",
      "Accuracy:0.5714285714285714\n",
      "3 59 7\n",
      "Accuracy:0.7142857142857143\n",
      "4 59 7\n",
      "Accuracy:0.7142857142857143\n",
      "5 59 7\n",
      "Accuracy:0.5714285714285714\n",
      "6 60 6\n",
      "Accuracy:0.6666666666666666\n",
      "7 60 6\n",
      "Accuracy:0.6666666666666666\n",
      "8 60 6\n",
      "Accuracy:0.6666666666666666\n",
      "9 60 6\n",
      "Accuracy:0.6666666666666666\n"
     ]
    }
   ],
   "source": [
    "X=df.drop(\"Gender\",axis=1)\n",
    "y=df.Gender\n",
    "k=0\n",
    "accuracy=[]\n",
    "for train,test in kfold.split(df):\n",
    "    print(k,len(train),len(test))\n",
    "    k+=1\n",
    "    trainSet=df.iloc[train]\n",
    "    testSet=df.iloc[test]\n",
    "\n",
    "    dt=tree.DecisionTreeClassifier(criterion=\"gini\")\n",
    "    dt.fit(trainSet.drop(\"Gender\",axis=1),trainSet.Gender)\n",
    "\n",
    "    pred=dt.predict(testSet.drop(\"Gender\",axis=1))\n",
    "    score=accuracy_score(testSet.Gender,pred)\n",
    "    accuracy.append(score)\n",
    "    print(\"Accuracy:\"+str(score))\n"
   ]
  },
  {
   "cell_type": "markdown",
   "id": "b1d9ff6f",
   "metadata": {},
   "source": [
    "## 4.Sonuçların Yorumlanması "
   ]
  },
  {
   "cell_type": "code",
   "execution_count": 39,
   "id": "10f02879",
   "metadata": {
    "scrolled": true
   },
   "outputs": [
    {
     "name": "stdout",
     "output_type": "stream",
     "text": [
      "0.580952380952381\n"
     ]
    },
    {
     "data": {
      "image/png": "[encoded data removed]",
      "text/plain": [
       "<Figure size 640x480 with 1 Axes>"
      ]
     },
     "metadata": {},
     "output_type": "display_data"
    }
   ],
   "source": [
    "print(sum(accuracy)/len(accuracy))\n",
    "from matplotlib import pyplot as plt\n",
    "tree.plot_tree(dt)\n",
    "plt.show()"
   ]
  },
  {
   "cell_type": "code",
   "execution_count": null,
   "id": "a60aee49",
   "metadata": {},
   "outputs": [],
   "source": []
  }
 ],
 "metadata": {
  "kernelspec": {
   "display_name": "Python 3 (ipykernel)",
   "language": "python",
   "name": "python3"
  },
  "language_info": {
   "codemirror_mode": {
    "name": "ipython",
    "version": 3
   },
   "file_extension": ".py",
   "mimetype": "text/x-python",
   "name": "python",
   "nbconvert_exporter": "python",
   "pygments_lexer": "ipython3",
   "version": "3.11.5"
  }
 },
 "nbformat": 4,
 "nbformat_minor": 5
}
